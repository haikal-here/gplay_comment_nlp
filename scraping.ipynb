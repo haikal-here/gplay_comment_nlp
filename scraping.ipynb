{
  "cells": [
    {
      "cell_type": "markdown",
      "id": "67e518c7",
      "metadata": {
        "id": "67e518c7"
      },
      "source": [
        "## Import Library yang akan digunakan"
      ]
    },
    {
      "cell_type": "code",
      "execution_count": 2,
      "id": "0bfe9960",
      "metadata": {
        "id": "0bfe9960",
        "outputId": "ea23a71b-bacb-467e-e8c8-bd53be095789",
        "colab": {
          "base_uri": "https://localhost:8080/"
        }
      },
      "outputs": [
        {
          "output_type": "stream",
          "name": "stdout",
          "text": [
            "Collecting sastrawi\n",
            "  Downloading Sastrawi-1.0.1-py2.py3-none-any.whl.metadata (909 bytes)\n",
            "Requirement already satisfied: nltk in /usr/local/lib/python3.11/dist-packages (3.9.1)\n",
            "Collecting google_play_scraper\n",
            "  Downloading google_play_scraper-1.2.7-py3-none-any.whl.metadata (50 kB)\n",
            "\u001b[?25l     \u001b[90m━━━━━━━━━━━━━━━━━━━━━━━━━━━━━━━━━━━━━━━━\u001b[0m \u001b[32m0.0/50.2 kB\u001b[0m \u001b[31m?\u001b[0m eta \u001b[36m-:--:--\u001b[0m\r\u001b[2K     \u001b[90m━━━━━━━━━━━━━━━━━━━━━━━━━━━━━━━━━━━━━━━━\u001b[0m \u001b[32m50.2/50.2 kB\u001b[0m \u001b[31m2.9 MB/s\u001b[0m eta \u001b[36m0:00:00\u001b[0m\n",
            "\u001b[?25hRequirement already satisfied: click in /usr/local/lib/python3.11/dist-packages (from nltk) (8.1.8)\n",
            "Requirement already satisfied: joblib in /usr/local/lib/python3.11/dist-packages (from nltk) (1.4.2)\n",
            "Requirement already satisfied: regex>=2021.8.3 in /usr/local/lib/python3.11/dist-packages (from nltk) (2024.11.6)\n",
            "Requirement already satisfied: tqdm in /usr/local/lib/python3.11/dist-packages (from nltk) (4.67.1)\n",
            "Downloading Sastrawi-1.0.1-py2.py3-none-any.whl (209 kB)\n",
            "\u001b[2K   \u001b[90m━━━━━━━━━━━━━━━━━━━━━━━━━━━━━━━━━━━━━━━━\u001b[0m \u001b[32m209.7/209.7 kB\u001b[0m \u001b[31m6.5 MB/s\u001b[0m eta \u001b[36m0:00:00\u001b[0m\n",
            "\u001b[?25hDownloading google_play_scraper-1.2.7-py3-none-any.whl (28 kB)\n",
            "Installing collected packages: sastrawi, google_play_scraper\n",
            "Successfully installed google_play_scraper-1.2.7 sastrawi-1.0.1\n"
          ]
        }
      ],
      "source": [
        "!pip install sastrawi nltk sastrawi google_play_scraper"
      ]
    },
    {
      "cell_type": "code",
      "execution_count": 3,
      "id": "173cd1a5",
      "metadata": {
        "id": "173cd1a5"
      },
      "outputs": [],
      "source": [
        "from google_play_scraper import reviews\n",
        "import pandas as pd\n",
        "import string\n",
        "import requests\n",
        "from io import StringIO\n",
        "import csv\n",
        "import re\n",
        "import nltk\n",
        "from nltk.tokenize import word_tokenize\n",
        "from nltk.corpus import stopwords\n",
        "from Sastrawi.Stemmer.StemmerFactory import StemmerFactory\n",
        "from Sastrawi.StopWordRemover.StopWordRemoverFactory import StopWordRemoverFactory"
      ]
    },
    {
      "cell_type": "markdown",
      "id": "0761f7b0",
      "metadata": {
        "id": "0761f7b0"
      },
      "source": [
        "## Scraping Komentar pada Aplikasi Genshin Impact"
      ]
    },
    {
      "cell_type": "code",
      "execution_count": 4,
      "id": "d0b6af82",
      "metadata": {
        "id": "d0b6af82",
        "outputId": "e3920061-c040-485d-aea5-8ad174991a79",
        "colab": {
          "base_uri": "https://localhost:8080/"
        }
      },
      "outputs": [
        {
          "output_type": "stream",
          "name": "stderr",
          "text": [
            "[nltk_data] Downloading package punkt to /root/nltk_data...\n",
            "[nltk_data]   Unzipping tokenizers/punkt.zip.\n",
            "[nltk_data] Downloading package punkt_tab to /root/nltk_data...\n",
            "[nltk_data]   Unzipping tokenizers/punkt_tab.zip.\n",
            "[nltk_data] Downloading package stopwords to /root/nltk_data...\n",
            "[nltk_data]   Unzipping corpora/stopwords.zip.\n"
          ]
        },
        {
          "output_type": "execute_result",
          "data": {
            "text/plain": [
              "True"
            ]
          },
          "metadata": {},
          "execution_count": 4
        }
      ],
      "source": [
        "nltk.download('punkt')\n",
        "nltk.download('punkt_tab')\n",
        "nltk.download('stopwords')"
      ]
    },
    {
      "cell_type": "code",
      "execution_count": 5,
      "id": "b96176ab",
      "metadata": {
        "id": "b96176ab",
        "outputId": "2007b71b-c530-4b69-9016-ee8f0d441e3d",
        "colab": {
          "base_uri": "https://localhost:8080/"
        }
      },
      "outputs": [
        {
          "output_type": "stream",
          "name": "stdout",
          "text": [
            "Mulai Scraping com.miHoYo.GenshinImpact Review Bintang 1\n",
            "Append hasil ke dalam list\n",
            "Scraping com.miHoYo.GenshinImpact Review Bintang 1 Selesai..\n",
            "Mulai Scraping com.miHoYo.GenshinImpact Review Bintang 2\n",
            "Append hasil ke dalam list\n",
            "Scraping com.miHoYo.GenshinImpact Review Bintang 2 Selesai..\n",
            "Mulai Scraping com.miHoYo.GenshinImpact Review Bintang 3\n",
            "Append hasil ke dalam list\n",
            "Scraping com.miHoYo.GenshinImpact Review Bintang 3 Selesai..\n",
            "Mulai Scraping com.miHoYo.GenshinImpact Review Bintang 4\n",
            "Append hasil ke dalam list\n",
            "Scraping com.miHoYo.GenshinImpact Review Bintang 4 Selesai..\n",
            "Mulai Scraping com.miHoYo.GenshinImpact Review Bintang 5\n",
            "Append hasil ke dalam list\n",
            "Scraping com.miHoYo.GenshinImpact Review Bintang 5 Selesai..\n"
          ]
        }
      ],
      "source": [
        "# Scraping komentar dengan bintang 1-5\n",
        "# Content, Score, At\n",
        "_content = []\n",
        "_score = []\n",
        "_date = []\n",
        "\n",
        "for i in range(1,6):\n",
        "    print(f\"Mulai Scraping com.miHoYo.GenshinImpact Review Bintang {i}\")\n",
        "    results, _ = reviews(\n",
        "    \"com.miHoYo.GenshinImpact\",\n",
        "    count=3000,\n",
        "    filter_score_with= i,\n",
        "    lang=\"id\",\n",
        "    country=\"id\"\n",
        ")\n",
        "    print(f\"Append hasil ke dalam list\")\n",
        "    for result in results:\n",
        "        _content.append(result[\"content\"])\n",
        "        _score.append(result[\"score\"])\n",
        "        _date.append(result[\"at\"])\n",
        "    print(f\"Scraping com.miHoYo.GenshinImpact Review Bintang {i} Selesai..\")"
      ]
    },
    {
      "cell_type": "code",
      "execution_count": 6,
      "id": "daa8dfd4",
      "metadata": {
        "id": "daa8dfd4",
        "outputId": "4e6cea95-6390-4927-8c08-bacba53df272",
        "colab": {
          "base_uri": "https://localhost:8080/",
          "height": 241
        }
      },
      "outputs": [
        {
          "output_type": "execute_result",
          "data": {
            "text/plain": [
              "Ratings\n",
              "1    3000\n",
              "3    3000\n",
              "4    3000\n",
              "5    3000\n",
              "Name: count, dtype: int64"
            ],
            "text/html": [
              "<div>\n",
              "<style scoped>\n",
              "    .dataframe tbody tr th:only-of-type {\n",
              "        vertical-align: middle;\n",
              "    }\n",
              "\n",
              "    .dataframe tbody tr th {\n",
              "        vertical-align: top;\n",
              "    }\n",
              "\n",
              "    .dataframe thead th {\n",
              "        text-align: right;\n",
              "    }\n",
              "</style>\n",
              "<table border=\"1\" class=\"dataframe\">\n",
              "  <thead>\n",
              "    <tr style=\"text-align: right;\">\n",
              "      <th></th>\n",
              "      <th>count</th>\n",
              "    </tr>\n",
              "    <tr>\n",
              "      <th>Ratings</th>\n",
              "      <th></th>\n",
              "    </tr>\n",
              "  </thead>\n",
              "  <tbody>\n",
              "    <tr>\n",
              "      <th>1</th>\n",
              "      <td>3000</td>\n",
              "    </tr>\n",
              "    <tr>\n",
              "      <th>3</th>\n",
              "      <td>3000</td>\n",
              "    </tr>\n",
              "    <tr>\n",
              "      <th>4</th>\n",
              "      <td>3000</td>\n",
              "    </tr>\n",
              "    <tr>\n",
              "      <th>5</th>\n",
              "      <td>3000</td>\n",
              "    </tr>\n",
              "  </tbody>\n",
              "</table>\n",
              "</div><br><label><b>dtype:</b> int64</label>"
            ]
          },
          "metadata": {},
          "execution_count": 6
        }
      ],
      "source": [
        "# Membuat dataframe untuk hasil scraping\n",
        "df_scraping = pd.DataFrame({\"Review Date\": _date, \"Ratings\" : _score, \"Comment\" : _content})\n",
        "df_scraping[\"Ratings\"].value_counts()"
      ]
    },
    {
      "cell_type": "code",
      "execution_count": 7,
      "id": "5b4c2b00",
      "metadata": {
        "id": "5b4c2b00",
        "outputId": "0e92b5d8-78ab-45b0-ec72-f7cc117fbfbb",
        "colab": {
          "base_uri": "https://localhost:8080/"
        }
      },
      "outputs": [
        {
          "output_type": "stream",
          "name": "stdout",
          "text": [
            "<class 'pandas.core.frame.DataFrame'>\n",
            "RangeIndex: 12000 entries, 0 to 11999\n",
            "Data columns (total 3 columns):\n",
            " #   Column       Non-Null Count  Dtype         \n",
            "---  ------       --------------  -----         \n",
            " 0   Review Date  12000 non-null  datetime64[ns]\n",
            " 1   Ratings      12000 non-null  int64         \n",
            " 2   Comment      12000 non-null  object        \n",
            "dtypes: datetime64[ns](1), int64(1), object(1)\n",
            "memory usage: 281.4+ KB\n"
          ]
        }
      ],
      "source": [
        "df_scraping.info()"
      ]
    },
    {
      "cell_type": "code",
      "execution_count": 8,
      "id": "e6956006",
      "metadata": {
        "id": "e6956006"
      },
      "outputs": [],
      "source": [
        "df_scraping['Comment'].to_csv(\"Data.csv\", index=False, header=False)"
      ]
    },
    {
      "cell_type": "markdown",
      "id": "54205e08",
      "metadata": {
        "id": "54205e08"
      },
      "source": [
        "## Pre-Processing Text"
      ]
    },
    {
      "cell_type": "markdown",
      "id": "f5dc3d22",
      "metadata": {
        "id": "f5dc3d22"
      },
      "source": [
        "#### Text Slang"
      ]
    },
    {
      "cell_type": "code",
      "execution_count": 9,
      "id": "a7438337",
      "metadata": {
        "id": "a7438337"
      },
      "outputs": [],
      "source": [
        "text_slang = {\n",
        "    'gue' : 'saya',\n",
        "    'gw' : 'saya',\n",
        "    'gua' : 'saya',\n",
        "    'ak' : 'saya',\n",
        "    'aq' : 'saya',\n",
        "    'gak' : 'tidak',\n",
        "    'gk' : 'tidak',\n",
        "    'ga' : 'tidak',\n",
        "    'g' : 'tidak',\n",
        "    'cpek' : 'lelah',\n",
        "    'cpk' : 'lelah',\n",
        "    'capk' : 'lelah',\n",
        "    'gini' : 'ini',\n",
        "    'kek' : \"seperti\",\n",
        "    'kayak' : 'seperti',\n",
        "    'kyk' : 'seperti',\n",
        "    'kyknya' : 'sepertinya',\n",
        "    'kayaknya' : 'sepertinya',\n",
        "    'udh' : 'sudah',\n",
        "    'dhlh' : 'sudahlah',\n",
        "    'sdh' : 'sudah',\n",
        "    'dh' : 'sudah',\n",
        "    'yg' : 'yang',\n",
        "    'yng' : 'yang',\n",
        "    'pdhl' : 'padahal',\n",
        "    'kikir' : 'pelit',\n",
        "    'bgt' : 'bangent',\n",
        "    'masi' : 'masih',\n",
        "    'gitu' : 'begitu',\n",
        "    'gtu' : 'begitu',\n",
        "    'gt' : 'begitu',\n",
        "    'mw' : 'mau',\n",
        "    'yapping':'banya bicara',\n",
        "    'smuanya' : 'semuanya',\n",
        "    'smua' : 'semua',\n",
        "    'bosenin' : 'membosankan',\n",
        "    'ngebosenin' : 'membosankan',\n",
        "    'gtau' : 'tidak tahu',\n",
        "    'gatau' : 'tidak tahu',\n",
        "    'gaada' : 'tidak ada',\n",
        "    'gda' : 'tidak ada',\n",
        "    'gd' : 'tidak ada',\n",
        "    'gamau' : 'tidak mau',\n",
        "    'gmau' : 'tidak mau',\n",
        "    'gmw' : 'tidak mau',\n",
        "    'skrg' : 'sekarang',\n",
        "    'skrng' : 'sekarang',\n",
        "    'kikir' : 'pelit',\n",
        "    'kli' : 'sekali',\n",
        "    'banget' : 'sekali',\n",
        "    'kali' : 'sekali',\n",
        "    'lu' : 'kamu',\n",
        "    'lo' : 'kamu',\n",
        "    'ampas' : 'jelek',\n",
        "    'slalu' : 'selalu',\n",
        "    'sllu' : 'selalu',\n",
        "    'ngedengerin' : 'mendengarkan',\n",
        "    'dengerin' : 'mendengarkan',\n",
        "    'denger' : 'dengar',\n",
        "    'ancur' : 'hancur',\n",
        "    'tpi' : 'tapi',\n",
        "    'tp' : 'tapi',\n",
        "    'klo' : 'jika',\n",
        "    'kl' : 'jika',\n",
        "    'minim' : 'sedikit',\n",
        "    'budeg' : 'tuli',\n",
        "    'ilang' : 'hilang',\n",
        "    'balikin' : 'kembalikan',\n",
        "    'f2p' : 'free to play',\n",
        "    'p2w' : 'pay to win',\n",
        "    'apes' : 'sial',\n",
        "    'lg' : 'lagi',\n",
        "    'lgi' : 'lagi',\n",
        "    'bentar' : 'sebentar',\n",
        "    'ngikuti' : 'mengikuti',\n",
        "    'dev' : 'developer',\n",
        "    'bener' : 'benar',\n",
        "    'guna' : 'berguna',\n",
        "    'mc' : 'main character',\n",
        "    'npc' : 'non player character',\n",
        "    'makin' : 'semakin',\n",
        "    'ngotak' : 'pakai otak',\n",
        "    'nunggu' : 'menunggu'\n",
        "    }"
      ]
    },
    {
      "cell_type": "code",
      "execution_count": 10,
      "id": "2223d65d",
      "metadata": {
        "id": "2223d65d"
      },
      "outputs": [],
      "source": [
        "factory = StemmerFactory()\n",
        "stemmer = factory.create_stemmer()\n",
        "listStopwords = set(stopwords.words('indonesian')) | set(stopwords.words('english'))\n",
        "listStopwords.update(['bet','iya','yaa','gak','nya','na','sih','ku',\"di\",\"ga\",\"ya\",\"gaa\",\"loh\",\"kah\",\"woi\",\"woii\",\"woy\", \"anjir\", \"jir\", \"anjirr\", \"bjir\", \"anjirrr\", \"njirrr\"])"
      ]
    },
    {
      "cell_type": "code",
      "execution_count": 11,
      "id": "e7cf6756",
      "metadata": {
        "id": "e7cf6756"
      },
      "outputs": [],
      "source": [
        "def regex_text(text):\n",
        "    text = text.lower()\n",
        "    text = re.sub(r'[^\\w\\s]', ' ', text)\n",
        "    text = re.sub(r'@[A-Za-z0-9]+|#[A-Za-z0-9]+|RT[\\s]|http\\S+|\\d+', ' ', text)\n",
        "    text = text.strip()\n",
        "    return text\n",
        "\n",
        "def slang_word(text):\n",
        "    words = text.split()\n",
        "    text = []\n",
        "    for word in words:\n",
        "        if word.lower() in text_slang:\n",
        "            text.append(text_slang[word])\n",
        "        else :\n",
        "            text.append(word)\n",
        "    text = \" \".join(text)\n",
        "    return text\n",
        "\n",
        "def stemming_word(text):\n",
        "    words = word_tokenize(text)\n",
        "    words = [word for word in words if word not in listStopwords]\n",
        "    words = [stemmer.stem(word) for word in words]\n",
        "    text = \" \".join(words)\n",
        "    return text\n",
        "\n",
        "\n",
        "def cleaning_data(text):\n",
        "    regex = regex_text(text)\n",
        "    slang_words = slang_word(regex)\n",
        "    stemming = stemming_word(slang_words)\n",
        "    return stemming"
      ]
    },
    {
      "cell_type": "code",
      "execution_count": 12,
      "id": "88b484af",
      "metadata": {
        "id": "88b484af"
      },
      "outputs": [],
      "source": [
        "df_scraping[\"Comment Cleaned\"] = df_scraping[\"Comment\"].apply(cleaning_data)"
      ]
    },
    {
      "cell_type": "code",
      "execution_count": 13,
      "id": "1b43385e",
      "metadata": {
        "id": "1b43385e"
      },
      "outputs": [],
      "source": [
        "def labelling_by_score(score):\n",
        "    if score in range(4,6):\n",
        "        return \"Positive\"\n",
        "    elif score == 3:\n",
        "        return \"Neutral\"\n",
        "    else :\n",
        "        return \"Negative\"\n",
        "\n",
        "df_scraping[\"Label\"] = df_scraping[\"Ratings\"].apply(labelling_by_score)"
      ]
    },
    {
      "cell_type": "code",
      "execution_count": 14,
      "id": "c90b9012",
      "metadata": {
        "id": "c90b9012",
        "outputId": "49a6088c-5f86-4508-e0d2-8fde129fbfd9",
        "colab": {
          "base_uri": "https://localhost:8080/",
          "height": 206
        }
      },
      "outputs": [
        {
          "output_type": "execute_result",
          "data": {
            "text/plain": [
              "          Review Date  Ratings  \\\n",
              "0 2025-04-15 22:01:17        1   \n",
              "1 2025-04-09 13:08:42        1   \n",
              "2 2025-04-09 13:06:01        1   \n",
              "3 2025-04-09 12:53:58        1   \n",
              "4 2025-04-09 09:03:06        1   \n",
              "\n",
              "                                             Comment  \\\n",
              "0  udh game kikir,,game yapping,,muka NPC nya tem...   \n",
              "1  Saran buat dev dioptimalkan lagi game ya, 2020...   \n",
              "2                                              Keren   \n",
              "3  bisa tidak sih kasih mata buat F2P? mereka ter...   \n",
              "4                        skrng berasa jadi game bayi   \n",
              "\n",
              "                                     Comment Cleaned     Label  \n",
              "0  game pelit game banya bicara muka non player c...  Negative  \n",
              "1  saran developer optimal game edit th ulas pv b...  Negative  \n",
              "2                                              keren  Negative  \n",
              "3      kasih mata f p siksa cari chest kalah goodbye  Negative  \n",
              "4                                      asa game bayi  Negative  "
            ],
            "text/html": [
              "\n",
              "  <div id=\"df-a15639da-8fec-4d85-8d52-0dc542779f3a\" class=\"colab-df-container\">\n",
              "    <div>\n",
              "<style scoped>\n",
              "    .dataframe tbody tr th:only-of-type {\n",
              "        vertical-align: middle;\n",
              "    }\n",
              "\n",
              "    .dataframe tbody tr th {\n",
              "        vertical-align: top;\n",
              "    }\n",
              "\n",
              "    .dataframe thead th {\n",
              "        text-align: right;\n",
              "    }\n",
              "</style>\n",
              "<table border=\"1\" class=\"dataframe\">\n",
              "  <thead>\n",
              "    <tr style=\"text-align: right;\">\n",
              "      <th></th>\n",
              "      <th>Review Date</th>\n",
              "      <th>Ratings</th>\n",
              "      <th>Comment</th>\n",
              "      <th>Comment Cleaned</th>\n",
              "      <th>Label</th>\n",
              "    </tr>\n",
              "  </thead>\n",
              "  <tbody>\n",
              "    <tr>\n",
              "      <th>0</th>\n",
              "      <td>2025-04-15 22:01:17</td>\n",
              "      <td>1</td>\n",
              "      <td>udh game kikir,,game yapping,,muka NPC nya tem...</td>\n",
              "      <td>game pelit game banya bicara muka non player c...</td>\n",
              "      <td>Negative</td>\n",
              "    </tr>\n",
              "    <tr>\n",
              "      <th>1</th>\n",
              "      <td>2025-04-09 13:08:42</td>\n",
              "      <td>1</td>\n",
              "      <td>Saran buat dev dioptimalkan lagi game ya, 2020...</td>\n",
              "      <td>saran developer optimal game edit th ulas pv b...</td>\n",
              "      <td>Negative</td>\n",
              "    </tr>\n",
              "    <tr>\n",
              "      <th>2</th>\n",
              "      <td>2025-04-09 13:06:01</td>\n",
              "      <td>1</td>\n",
              "      <td>Keren</td>\n",
              "      <td>keren</td>\n",
              "      <td>Negative</td>\n",
              "    </tr>\n",
              "    <tr>\n",
              "      <th>3</th>\n",
              "      <td>2025-04-09 12:53:58</td>\n",
              "      <td>1</td>\n",
              "      <td>bisa tidak sih kasih mata buat F2P? mereka ter...</td>\n",
              "      <td>kasih mata f p siksa cari chest kalah goodbye</td>\n",
              "      <td>Negative</td>\n",
              "    </tr>\n",
              "    <tr>\n",
              "      <th>4</th>\n",
              "      <td>2025-04-09 09:03:06</td>\n",
              "      <td>1</td>\n",
              "      <td>skrng berasa jadi game bayi</td>\n",
              "      <td>asa game bayi</td>\n",
              "      <td>Negative</td>\n",
              "    </tr>\n",
              "  </tbody>\n",
              "</table>\n",
              "</div>\n",
              "    <div class=\"colab-df-buttons\">\n",
              "\n",
              "  <div class=\"colab-df-container\">\n",
              "    <button class=\"colab-df-convert\" onclick=\"convertToInteractive('df-a15639da-8fec-4d85-8d52-0dc542779f3a')\"\n",
              "            title=\"Convert this dataframe to an interactive table.\"\n",
              "            style=\"display:none;\">\n",
              "\n",
              "  <svg xmlns=\"http://www.w3.org/2000/svg\" height=\"24px\" viewBox=\"0 -960 960 960\">\n",
              "    <path d=\"M120-120v-720h720v720H120Zm60-500h600v-160H180v160Zm220 220h160v-160H400v160Zm0 220h160v-160H400v160ZM180-400h160v-160H180v160Zm440 0h160v-160H620v160ZM180-180h160v-160H180v160Zm440 0h160v-160H620v160Z\"/>\n",
              "  </svg>\n",
              "    </button>\n",
              "\n",
              "  <style>\n",
              "    .colab-df-container {\n",
              "      display:flex;\n",
              "      gap: 12px;\n",
              "    }\n",
              "\n",
              "    .colab-df-convert {\n",
              "      background-color: #E8F0FE;\n",
              "      border: none;\n",
              "      border-radius: 50%;\n",
              "      cursor: pointer;\n",
              "      display: none;\n",
              "      fill: #1967D2;\n",
              "      height: 32px;\n",
              "      padding: 0 0 0 0;\n",
              "      width: 32px;\n",
              "    }\n",
              "\n",
              "    .colab-df-convert:hover {\n",
              "      background-color: #E2EBFA;\n",
              "      box-shadow: 0px 1px 2px rgba(60, 64, 67, 0.3), 0px 1px 3px 1px rgba(60, 64, 67, 0.15);\n",
              "      fill: #174EA6;\n",
              "    }\n",
              "\n",
              "    .colab-df-buttons div {\n",
              "      margin-bottom: 4px;\n",
              "    }\n",
              "\n",
              "    [theme=dark] .colab-df-convert {\n",
              "      background-color: #3B4455;\n",
              "      fill: #D2E3FC;\n",
              "    }\n",
              "\n",
              "    [theme=dark] .colab-df-convert:hover {\n",
              "      background-color: #434B5C;\n",
              "      box-shadow: 0px 1px 3px 1px rgba(0, 0, 0, 0.15);\n",
              "      filter: drop-shadow(0px 1px 2px rgba(0, 0, 0, 0.3));\n",
              "      fill: #FFFFFF;\n",
              "    }\n",
              "  </style>\n",
              "\n",
              "    <script>\n",
              "      const buttonEl =\n",
              "        document.querySelector('#df-a15639da-8fec-4d85-8d52-0dc542779f3a button.colab-df-convert');\n",
              "      buttonEl.style.display =\n",
              "        google.colab.kernel.accessAllowed ? 'block' : 'none';\n",
              "\n",
              "      async function convertToInteractive(key) {\n",
              "        const element = document.querySelector('#df-a15639da-8fec-4d85-8d52-0dc542779f3a');\n",
              "        const dataTable =\n",
              "          await google.colab.kernel.invokeFunction('convertToInteractive',\n",
              "                                                    [key], {});\n",
              "        if (!dataTable) return;\n",
              "\n",
              "        const docLinkHtml = 'Like what you see? Visit the ' +\n",
              "          '<a target=\"_blank\" href=https://colab.research.google.com/notebooks/data_table.ipynb>data table notebook</a>'\n",
              "          + ' to learn more about interactive tables.';\n",
              "        element.innerHTML = '';\n",
              "        dataTable['output_type'] = 'display_data';\n",
              "        await google.colab.output.renderOutput(dataTable, element);\n",
              "        const docLink = document.createElement('div');\n",
              "        docLink.innerHTML = docLinkHtml;\n",
              "        element.appendChild(docLink);\n",
              "      }\n",
              "    </script>\n",
              "  </div>\n",
              "\n",
              "\n",
              "    <div id=\"df-d046356d-52e0-4197-bff0-7cb5689a32aa\">\n",
              "      <button class=\"colab-df-quickchart\" onclick=\"quickchart('df-d046356d-52e0-4197-bff0-7cb5689a32aa')\"\n",
              "                title=\"Suggest charts\"\n",
              "                style=\"display:none;\">\n",
              "\n",
              "<svg xmlns=\"http://www.w3.org/2000/svg\" height=\"24px\"viewBox=\"0 0 24 24\"\n",
              "     width=\"24px\">\n",
              "    <g>\n",
              "        <path d=\"M19 3H5c-1.1 0-2 .9-2 2v14c0 1.1.9 2 2 2h14c1.1 0 2-.9 2-2V5c0-1.1-.9-2-2-2zM9 17H7v-7h2v7zm4 0h-2V7h2v10zm4 0h-2v-4h2v4z\"/>\n",
              "    </g>\n",
              "</svg>\n",
              "      </button>\n",
              "\n",
              "<style>\n",
              "  .colab-df-quickchart {\n",
              "      --bg-color: #E8F0FE;\n",
              "      --fill-color: #1967D2;\n",
              "      --hover-bg-color: #E2EBFA;\n",
              "      --hover-fill-color: #174EA6;\n",
              "      --disabled-fill-color: #AAA;\n",
              "      --disabled-bg-color: #DDD;\n",
              "  }\n",
              "\n",
              "  [theme=dark] .colab-df-quickchart {\n",
              "      --bg-color: #3B4455;\n",
              "      --fill-color: #D2E3FC;\n",
              "      --hover-bg-color: #434B5C;\n",
              "      --hover-fill-color: #FFFFFF;\n",
              "      --disabled-bg-color: #3B4455;\n",
              "      --disabled-fill-color: #666;\n",
              "  }\n",
              "\n",
              "  .colab-df-quickchart {\n",
              "    background-color: var(--bg-color);\n",
              "    border: none;\n",
              "    border-radius: 50%;\n",
              "    cursor: pointer;\n",
              "    display: none;\n",
              "    fill: var(--fill-color);\n",
              "    height: 32px;\n",
              "    padding: 0;\n",
              "    width: 32px;\n",
              "  }\n",
              "\n",
              "  .colab-df-quickchart:hover {\n",
              "    background-color: var(--hover-bg-color);\n",
              "    box-shadow: 0 1px 2px rgba(60, 64, 67, 0.3), 0 1px 3px 1px rgba(60, 64, 67, 0.15);\n",
              "    fill: var(--button-hover-fill-color);\n",
              "  }\n",
              "\n",
              "  .colab-df-quickchart-complete:disabled,\n",
              "  .colab-df-quickchart-complete:disabled:hover {\n",
              "    background-color: var(--disabled-bg-color);\n",
              "    fill: var(--disabled-fill-color);\n",
              "    box-shadow: none;\n",
              "  }\n",
              "\n",
              "  .colab-df-spinner {\n",
              "    border: 2px solid var(--fill-color);\n",
              "    border-color: transparent;\n",
              "    border-bottom-color: var(--fill-color);\n",
              "    animation:\n",
              "      spin 1s steps(1) infinite;\n",
              "  }\n",
              "\n",
              "  @keyframes spin {\n",
              "    0% {\n",
              "      border-color: transparent;\n",
              "      border-bottom-color: var(--fill-color);\n",
              "      border-left-color: var(--fill-color);\n",
              "    }\n",
              "    20% {\n",
              "      border-color: transparent;\n",
              "      border-left-color: var(--fill-color);\n",
              "      border-top-color: var(--fill-color);\n",
              "    }\n",
              "    30% {\n",
              "      border-color: transparent;\n",
              "      border-left-color: var(--fill-color);\n",
              "      border-top-color: var(--fill-color);\n",
              "      border-right-color: var(--fill-color);\n",
              "    }\n",
              "    40% {\n",
              "      border-color: transparent;\n",
              "      border-right-color: var(--fill-color);\n",
              "      border-top-color: var(--fill-color);\n",
              "    }\n",
              "    60% {\n",
              "      border-color: transparent;\n",
              "      border-right-color: var(--fill-color);\n",
              "    }\n",
              "    80% {\n",
              "      border-color: transparent;\n",
              "      border-right-color: var(--fill-color);\n",
              "      border-bottom-color: var(--fill-color);\n",
              "    }\n",
              "    90% {\n",
              "      border-color: transparent;\n",
              "      border-bottom-color: var(--fill-color);\n",
              "    }\n",
              "  }\n",
              "</style>\n",
              "\n",
              "      <script>\n",
              "        async function quickchart(key) {\n",
              "          const quickchartButtonEl =\n",
              "            document.querySelector('#' + key + ' button');\n",
              "          quickchartButtonEl.disabled = true;  // To prevent multiple clicks.\n",
              "          quickchartButtonEl.classList.add('colab-df-spinner');\n",
              "          try {\n",
              "            const charts = await google.colab.kernel.invokeFunction(\n",
              "                'suggestCharts', [key], {});\n",
              "          } catch (error) {\n",
              "            console.error('Error during call to suggestCharts:', error);\n",
              "          }\n",
              "          quickchartButtonEl.classList.remove('colab-df-spinner');\n",
              "          quickchartButtonEl.classList.add('colab-df-quickchart-complete');\n",
              "        }\n",
              "        (() => {\n",
              "          let quickchartButtonEl =\n",
              "            document.querySelector('#df-d046356d-52e0-4197-bff0-7cb5689a32aa button');\n",
              "          quickchartButtonEl.style.display =\n",
              "            google.colab.kernel.accessAllowed ? 'block' : 'none';\n",
              "        })();\n",
              "      </script>\n",
              "    </div>\n",
              "\n",
              "    </div>\n",
              "  </div>\n"
            ],
            "application/vnd.google.colaboratory.intrinsic+json": {
              "type": "dataframe",
              "variable_name": "df_scraping",
              "summary": "{\n  \"name\": \"df_scraping\",\n  \"rows\": 12000,\n  \"fields\": [\n    {\n      \"column\": \"Review Date\",\n      \"properties\": {\n        \"dtype\": \"date\",\n        \"min\": \"2022-12-30 09:31:40\",\n        \"max\": \"2025-04-15 22:01:17\",\n        \"num_unique_values\": 11998,\n        \"samples\": [\n          \"2024-11-20 14:46:37\",\n          \"2025-02-28 06:03:42\",\n          \"2024-09-25 14:43:20\"\n        ],\n        \"semantic_type\": \"\",\n        \"description\": \"\"\n      }\n    },\n    {\n      \"column\": \"Ratings\",\n      \"properties\": {\n        \"dtype\": \"number\",\n        \"std\": 1,\n        \"min\": 1,\n        \"max\": 5,\n        \"num_unique_values\": 4,\n        \"samples\": [\n          3,\n          5,\n          1\n        ],\n        \"semantic_type\": \"\",\n        \"description\": \"\"\n      }\n    },\n    {\n      \"column\": \"Comment\",\n      \"properties\": {\n        \"dtype\": \"string\",\n        \"num_unique_values\": 10874,\n        \"samples\": [\n          \"Game kampret update Mulu\",\n          \"bagus sih cuman reward nya kecil agak sayang di itu nya aja sih semoga developer game mendengarkan saya\",\n          \"Dear genshin impact game developers, please increase the rate to win good artifacts I always spam bad artifacts please fix tge RnG rate for artifacts\"\n        ],\n        \"semantic_type\": \"\",\n        \"description\": \"\"\n      }\n    },\n    {\n      \"column\": \"Comment Cleaned\",\n      \"properties\": {\n        \"dtype\": \"string\",\n        \"num_unique_values\": 10071,\n        \"samples\": [\n          \"tolong game ringan loading tolong game ringan\",\n          \"furina udah pity blom b\",\n          \"salah game gacha baik dar saran developer event tolong reward primogem dibanyakin kalo eksplorasi achievement udah full spiral abyss imaginarium theater complete player f p planga plongo ngerjain daily quest doang mending kalo gacha wangi menang rate wish gacha karakter bintang limited eh qiqi sukses genshin\"\n        ],\n        \"semantic_type\": \"\",\n        \"description\": \"\"\n      }\n    },\n    {\n      \"column\": \"Label\",\n      \"properties\": {\n        \"dtype\": \"category\",\n        \"num_unique_values\": 3,\n        \"samples\": [\n          \"Negative\",\n          \"Neutral\",\n          \"Positive\"\n        ],\n        \"semantic_type\": \"\",\n        \"description\": \"\"\n      }\n    }\n  ]\n}"
            }
          },
          "metadata": {},
          "execution_count": 14
        }
      ],
      "source": [
        "df_scraping.head()"
      ]
    },
    {
      "cell_type": "code",
      "source": [
        "df_scraping[\"Label\"].value_counts()"
      ],
      "metadata": {
        "id": "Wbi5mOJVkpya",
        "outputId": "33fcd95a-8441-4934-eaf9-718349ce790e",
        "colab": {
          "base_uri": "https://localhost:8080/",
          "height": 209
        }
      },
      "id": "Wbi5mOJVkpya",
      "execution_count": 15,
      "outputs": [
        {
          "output_type": "execute_result",
          "data": {
            "text/plain": [
              "Label\n",
              "Positive    6000\n",
              "Negative    3000\n",
              "Neutral     3000\n",
              "Name: count, dtype: int64"
            ],
            "text/html": [
              "<div>\n",
              "<style scoped>\n",
              "    .dataframe tbody tr th:only-of-type {\n",
              "        vertical-align: middle;\n",
              "    }\n",
              "\n",
              "    .dataframe tbody tr th {\n",
              "        vertical-align: top;\n",
              "    }\n",
              "\n",
              "    .dataframe thead th {\n",
              "        text-align: right;\n",
              "    }\n",
              "</style>\n",
              "<table border=\"1\" class=\"dataframe\">\n",
              "  <thead>\n",
              "    <tr style=\"text-align: right;\">\n",
              "      <th></th>\n",
              "      <th>count</th>\n",
              "    </tr>\n",
              "    <tr>\n",
              "      <th>Label</th>\n",
              "      <th></th>\n",
              "    </tr>\n",
              "  </thead>\n",
              "  <tbody>\n",
              "    <tr>\n",
              "      <th>Positive</th>\n",
              "      <td>6000</td>\n",
              "    </tr>\n",
              "    <tr>\n",
              "      <th>Negative</th>\n",
              "      <td>3000</td>\n",
              "    </tr>\n",
              "    <tr>\n",
              "      <th>Neutral</th>\n",
              "      <td>3000</td>\n",
              "    </tr>\n",
              "  </tbody>\n",
              "</table>\n",
              "</div><br><label><b>dtype:</b> int64</label>"
            ]
          },
          "metadata": {},
          "execution_count": 15
        }
      ]
    },
    {
      "cell_type": "code",
      "source": [
        "# Export Dataset\n",
        "df_scraping.to_csv(\"Dataset.csv\", index=False)"
      ],
      "metadata": {
        "id": "OPRfxKttmjig"
      },
      "id": "OPRfxKttmjig",
      "execution_count": 16,
      "outputs": []
    }
  ],
  "metadata": {
    "kernelspec": {
      "display_name": "Python 3",
      "name": "python3"
    },
    "language_info": {
      "codemirror_mode": {
        "name": "ipython",
        "version": 3
      },
      "file_extension": ".py",
      "mimetype": "text/x-python",
      "name": "python",
      "nbconvert_exporter": "python",
      "pygments_lexer": "ipython3",
      "version": "3.11.0"
    },
    "colab": {
      "provenance": [],
      "gpuType": "T4"
    }
  },
  "nbformat": 4,
  "nbformat_minor": 5
}