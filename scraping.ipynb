{
 "cells": [
  {
   "cell_type": "markdown",
   "id": "67e518c7",
   "metadata": {},
   "source": [
    "## Import Library yang akan digunakan"
   ]
  },
  {
   "cell_type": "code",
   "execution_count": 1,
   "id": "173cd1a5",
   "metadata": {},
   "outputs": [],
   "source": [
    "from google_play_scraper import reviews\n",
    "import pandas as pd"
   ]
  },
  {
   "cell_type": "markdown",
   "id": "0761f7b0",
   "metadata": {},
   "source": [
    "## Scraping Komentar pada Aplikasi Genshin Impact"
   ]
  },
  {
   "cell_type": "code",
   "execution_count": 2,
   "id": "b96176ab",
   "metadata": {},
   "outputs": [
    {
     "name": "stdout",
     "output_type": "stream",
     "text": [
      "Mulai Scraping com.miHoYo.GenshinImpact Review Bintang 1\n",
      "Append hasil ke dalam list\n",
      "Scraping com.miHoYo.GenshinImpact Review Bintang 1 Selesai..\n",
      "Mulai Scraping com.miHoYo.GenshinImpact Review Bintang 3\n",
      "Append hasil ke dalam list\n",
      "Scraping com.miHoYo.GenshinImpact Review Bintang 3 Selesai..\n",
      "Mulai Scraping com.miHoYo.GenshinImpact Review Bintang 5\n",
      "Append hasil ke dalam list\n",
      "Scraping com.miHoYo.GenshinImpact Review Bintang 5 Selesai..\n"
     ]
    }
   ],
   "source": [
    "# Scraping komentar dengan bintang 1-5\n",
    "# Content, Score, At\n",
    "_content = []\n",
    "_score = []\n",
    "_date = []\n",
    "\n",
    "for i in range(1,6,2):\n",
    "    print(f\"Mulai Scraping com.miHoYo.GenshinImpact Review Bintang {i}\")\n",
    "    results, _ = reviews(\n",
    "    \"com.miHoYo.GenshinImpact\",\n",
    "    count=7000,\n",
    "    filter_score_with= i,\n",
    "    lang=\"id\",\n",
    "    country=\"id\"\n",
    ")\n",
    "    print(f\"Append hasil ke dalam list\")\n",
    "    for result in results:\n",
    "        _content.append(result[\"content\"])\n",
    "        _score.append(result[\"score\"])\n",
    "        _date.append(result[\"at\"])\n",
    "    print(f\"Scraping com.miHoYo.GenshinImpact Review Bintang {i} Selesai..\")"
   ]
  },
  {
   "cell_type": "code",
   "execution_count": 3,
   "id": "daa8dfd4",
   "metadata": {},
   "outputs": [
    {
     "data": {
      "text/plain": [
       "Ratings\n",
       "1    7000\n",
       "3    7000\n",
       "5    7000\n",
       "Name: count, dtype: int64"
      ]
     },
     "execution_count": 3,
     "metadata": {},
     "output_type": "execute_result"
    }
   ],
   "source": [
    "# Membuat dataframe untuk hasil scraping\n",
    "df_scraping = pd.DataFrame({\"Review Date\": _date, \"Ratings\" : _score, \"Comment\" : _content})\n",
    "df_scraping[\"Ratings\"].value_counts()"
   ]
  },
  {
   "cell_type": "code",
   "execution_count": 4,
   "id": "5b4c2b00",
   "metadata": {},
   "outputs": [
    {
     "name": "stdout",
     "output_type": "stream",
     "text": [
      "<class 'pandas.core.frame.DataFrame'>\n",
      "RangeIndex: 21000 entries, 0 to 20999\n",
      "Data columns (total 3 columns):\n",
      " #   Column       Non-Null Count  Dtype         \n",
      "---  ------       --------------  -----         \n",
      " 0   Review Date  21000 non-null  datetime64[ns]\n",
      " 1   Ratings      21000 non-null  int64         \n",
      " 2   Comment      21000 non-null  object        \n",
      "dtypes: datetime64[ns](1), int64(1), object(1)\n",
      "memory usage: 492.3+ KB\n"
     ]
    }
   ],
   "source": [
    "df_scraping.info()"
   ]
  },
  {
   "cell_type": "code",
   "execution_count": 5,
   "id": "f1252888",
   "metadata": {},
   "outputs": [],
   "source": [
    "def labelling_by_score(score):\n",
    "    if score == 5:\n",
    "        return \"Positive\"\n",
    "    elif score == 3:\n",
    "        return \"Neutral\"\n",
    "    else :\n",
    "        return \"Negative\"\n",
    "    \n",
    "df_scraping[\"Label\"] = df_scraping[\"Ratings\"].apply(labelling_by_score)\n",
    "df_scraping.to_csv(\"Dataset.csv\", index=False)"
   ]
  }
 ],
 "metadata": {
  "kernelspec": {
   "display_name": ".venv",
   "language": "python",
   "name": "python3"
  },
  "language_info": {
   "codemirror_mode": {
    "name": "ipython",
    "version": 3
   },
   "file_extension": ".py",
   "mimetype": "text/x-python",
   "name": "python",
   "nbconvert_exporter": "python",
   "pygments_lexer": "ipython3",
   "version": "3.11.0"
  }
 },
 "nbformat": 4,
 "nbformat_minor": 5
}
