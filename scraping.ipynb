{
 "cells": [
  {
   "cell_type": "markdown",
   "id": "67e518c7",
   "metadata": {},
   "source": [
    "## Import Library yang akan digunakan"
   ]
  },
  {
   "cell_type": "code",
   "execution_count": 1,
   "id": "173cd1a5",
   "metadata": {},
   "outputs": [],
   "source": [
    "from google_play_scraper import reviews\n",
    "import pandas as pd"
   ]
  },
  {
   "cell_type": "markdown",
   "id": "0761f7b0",
   "metadata": {},
   "source": [
    "## Scraping Komentar pada Aplikasi Genshin Impact"
   ]
  },
  {
   "cell_type": "code",
   "execution_count": 4,
   "id": "b96176ab",
   "metadata": {},
   "outputs": [
    {
     "name": "stdout",
     "output_type": "stream",
     "text": [
      "Memulai Scraping\n",
      "Append hasil kedalam list\n",
      "Append hasil kedalam list\n",
      "Append hasil kedalam list\n"
     ]
    }
   ],
   "source": [
    "# Scraping komentar dengan bintang 1-5\n",
    "# Content, Score, At\n",
    "_content = []\n",
    "_score = []\n",
    "_date = []\n",
    "\n",
    "print(\"Memulai Scraping\")\n",
    "for i in [1,3,5]:\n",
    "    results, _ = reviews(\n",
    "        \"com.finaccel.android\",\n",
    "        filter_score_with=i,\n",
    "        count=4000,\n",
    "        lang=\"id\",\n",
    "        country=\"id\"\n",
    "    )\n",
    "    print(\"Append hasil kedalam list\")\n",
    "    for result in results:\n",
    "        _content.append(result[\"content\"])\n",
    "        _score.append(result[\"score\"])\n",
    "        _date.append(result[\"at\"])"
   ]
  },
  {
   "cell_type": "code",
   "execution_count": 5,
   "id": "daa8dfd4",
   "metadata": {},
   "outputs": [
    {
     "data": {
      "text/plain": [
       "Ratings\n",
       "1    4000\n",
       "3    4000\n",
       "5    4000\n",
       "Name: count, dtype: int64"
      ]
     },
     "execution_count": 5,
     "metadata": {},
     "output_type": "execute_result"
    }
   ],
   "source": [
    "# Membuat dataframe untuk hasil scraping\n",
    "df_scraping = pd.DataFrame({\"Review Date\": _date, \"Ratings\" : _score, \"Comment\" : _content})\n",
    "df_scraping[\"Ratings\"].value_counts()"
   ]
  },
  {
   "cell_type": "code",
   "execution_count": 6,
   "id": "5b4c2b00",
   "metadata": {},
   "outputs": [
    {
     "name": "stdout",
     "output_type": "stream",
     "text": [
      "<class 'pandas.core.frame.DataFrame'>\n",
      "RangeIndex: 12000 entries, 0 to 11999\n",
      "Data columns (total 3 columns):\n",
      " #   Column       Non-Null Count  Dtype         \n",
      "---  ------       --------------  -----         \n",
      " 0   Review Date  12000 non-null  datetime64[ns]\n",
      " 1   Ratings      12000 non-null  int64         \n",
      " 2   Comment      11999 non-null  object        \n",
      "dtypes: datetime64[ns](1), int64(1), object(1)\n",
      "memory usage: 281.4+ KB\n"
     ]
    }
   ],
   "source": [
    "df_scraping.info()"
   ]
  },
  {
   "cell_type": "code",
   "execution_count": 7,
   "id": "cf9193f9",
   "metadata": {},
   "outputs": [],
   "source": [
    "df_scraping.to_csv(\"Dataset.csv\", index=False)"
   ]
  }
 ],
 "metadata": {
  "kernelspec": {
   "display_name": ".venv",
   "language": "python",
   "name": "python3"
  },
  "language_info": {
   "codemirror_mode": {
    "name": "ipython",
    "version": 3
   },
   "file_extension": ".py",
   "mimetype": "text/x-python",
   "name": "python",
   "nbconvert_exporter": "python",
   "pygments_lexer": "ipython3",
   "version": "3.11.0"
  }
 },
 "nbformat": 4,
 "nbformat_minor": 5
}
